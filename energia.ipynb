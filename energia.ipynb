{
 "cells": [
  {
   "cell_type": "code",
   "execution_count": 1,
   "metadata": {},
   "outputs": [],
   "source": [
    "import torch\n",
    "import torch.nn as nn\n",
    "import seaborn as sns\n",
    "import numpy as np\n",
    "import pandas as pd\n",
    "import matplotlib.pyplot as plt\n",
    "\n",
    "import time \n",
    "import datetime\n",
    "import tqdm.notebook\n",
    "\n",
    "%matplotlib inline"
   ]
  },
  {
   "cell_type": "code",
   "execution_count": 2,
   "metadata": {},
   "outputs": [],
   "source": [
    "class LSTM(nn.Module):\n",
    "    def __init__(self, input_size=1, hidden_layer_size=100, output_size=1):\n",
    "        super().__init__()\n",
    "        self.hidden_layer_size = hidden_layer_size\n",
    "\n",
    "        self.lstm = nn.LSTM(input_size, hidden_layer_size)\n",
    "\n",
    "        self.linear = nn.Linear(hidden_layer_size, output_size)\n",
    "\n",
    "        self.hidden_cell = (torch.zeros(1, 1, self.hidden_layer_size),\n",
    "                            torch.zeros(1, 1, self.hidden_layer_size))\n",
    "\n",
    "    def forward(self, input_seq):\n",
    "        lstm_out, self.hidden_cell = self.lstm(\n",
    "            input_seq.view(len(input_seq), 1, -1), self.hidden_cell)\n",
    "        predictions = self.linear(lstm_out.view(len(input_seq), -1))\n",
    "        return predictions[-1]"
   ]
  },
  {
   "cell_type": "code",
   "execution_count": 3,
   "metadata": {},
   "outputs": [],
   "source": [
    "model = LSTM()\n",
    "loss_function = nn.MSELoss()\n",
    "optimizer = torch.optim.Adam(model.parameters(), lr=0.01)"
   ]
  },
  {
   "cell_type": "code",
   "execution_count": 4,
   "metadata": {},
   "outputs": [],
   "source": [
    "class DataSet:\n",
    "    def __init__(self, filename, randomize=False) -> None:\n",
    "        df = pd.read_csv('energia_costam.csv', sep=',')\n",
    "\n",
    "        if randomize:\n",
    "            self.df = df.sample(frac=1)\n",
    "\n",
    "        self.x = [x for x in self.df.values[1]]\n",
    "        self.y = [y for y in self.df.values[2]]\n",
    "\n",
    "        self.size = len(self.x)\n",
    "\n",
    "    def __len__(self) -> int:\n",
    "        return self.size\n",
    "\n",
    "    def __getitem__(self, index):\n",
    "        if index < 0 or index >= self.size:\n",
    "            raise IndexError\n",
    "\n",
    "        return torch.tensor(self.x[index]), torch.tensor(self.y[index])\n",
    "\n",
    "    def __iter__(self):\n",
    "        self.i = 0\n",
    "        return self\n",
    "\n",
    "    def __next__(self):\n",
    "        if self.i >= self.size:\n",
    "            raise StopIteration\n",
    "\n",
    "        self.i += 1\n",
    "        return self.__getitem__(self.i - 1)\n"
   ]
  },
  {
   "cell_type": "code",
   "execution_count": 5,
   "metadata": {},
   "outputs": [
    {
     "name": "stderr",
     "output_type": "stream",
     "text": [
      "C:\\s\\Anaconda\\lib\\site-packages\\IPython\\core\\interactiveshell.py:3165: DtypeWarning: Columns (2,3,4,5,6,7) have mixed types.Specify dtype option on import or set low_memory=False.\n",
      "  has_raised = await self.run_ast_nodes(code_ast.body, cell_name,\n"
     ]
    },
    {
     "name": "stdout",
     "output_type": "stream",
     "text": [
      "<class 'pandas.core.frame.DataFrame'>\n",
      "Int64Index: 2075259 entries, 1028959 to 1990482\n",
      "Data columns (total 9 columns):\n",
      " #   Column                 Dtype  \n",
      "---  ------                 -----  \n",
      " 0   Date                   object \n",
      " 1   Time                   object \n",
      " 2   Global_active_power    object \n",
      " 3   Global_reactive_power  object \n",
      " 4   Voltage                object \n",
      " 5   Global_intensity       object \n",
      " 6   Sub_metering_1         object \n",
      " 7   Sub_metering_2         object \n",
      " 8   Sub_metering_3         float64\n",
      "dtypes: float64(1), object(8)\n",
      "memory usage: 158.3+ MB\n"
     ]
    }
   ],
   "source": [
    "# df = pd.read_csv('energia_costam.csv', sep=',')\n",
    "\n",
    "df = pd.read_csv('household_power_consumption.txt', sep=',', low_memory=False)\n",
    "\n",
    "original = df.copy()\n",
    "\n",
    "df = df.sample(frac=1)  # randomize the dataframe\n",
    "\n",
    "# df.head()\n",
    "df.info()"
   ]
  },
  {
   "cell_type": "code",
   "execution_count": 13,
   "metadata": {},
   "outputs": [
    {
     "data": {
      "text/html": [
       "<div>\n",
       "<style scoped>\n",
       "    .dataframe tbody tr th:only-of-type {\n",
       "        vertical-align: middle;\n",
       "    }\n",
       "\n",
       "    .dataframe tbody tr th {\n",
       "        vertical-align: top;\n",
       "    }\n",
       "\n",
       "    .dataframe thead th {\n",
       "        text-align: right;\n",
       "    }\n",
       "</style>\n",
       "<table border=\"1\" class=\"dataframe\">\n",
       "  <thead>\n",
       "    <tr style=\"text-align: right;\">\n",
       "      <th></th>\n",
       "      <th>16/12/2006</th>\n",
       "      <th>17:24:00</th>\n",
       "      <th>4.216</th>\n",
       "      <th>0.418</th>\n",
       "      <th>234.840</th>\n",
       "      <th>18.400</th>\n",
       "      <th>0.000</th>\n",
       "      <th>1.000</th>\n",
       "      <th>17.000</th>\n",
       "    </tr>\n",
       "  </thead>\n",
       "  <tbody>\n",
       "    <tr>\n",
       "      <th>1992639</th>\n",
       "      <td>30/9/2010</td>\n",
       "      <td>12:04:00</td>\n",
       "      <td>0.496</td>\n",
       "      <td>0.304</td>\n",
       "      <td>244.700</td>\n",
       "      <td>2.400</td>\n",
       "      <td>0.000</td>\n",
       "      <td>1.000</td>\n",
       "      <td>1.0</td>\n",
       "    </tr>\n",
       "    <tr>\n",
       "      <th>1800405</th>\n",
       "      <td>20/5/2010</td>\n",
       "      <td>00:10:00</td>\n",
       "      <td>0.382</td>\n",
       "      <td>0.056</td>\n",
       "      <td>245.050</td>\n",
       "      <td>1.600</td>\n",
       "      <td>0.000</td>\n",
       "      <td>0.000</td>\n",
       "      <td>1.0</td>\n",
       "    </tr>\n",
       "    <tr>\n",
       "      <th>1562787</th>\n",
       "      <td>5/12/2009</td>\n",
       "      <td>23:52:00</td>\n",
       "      <td>2.316</td>\n",
       "      <td>0.110</td>\n",
       "      <td>240.280</td>\n",
       "      <td>9.600</td>\n",
       "      <td>0.000</td>\n",
       "      <td>0.000</td>\n",
       "      <td>19.0</td>\n",
       "    </tr>\n",
       "    <tr>\n",
       "      <th>868660</th>\n",
       "      <td>10/8/2008</td>\n",
       "      <td>23:05:00</td>\n",
       "      <td>0.430</td>\n",
       "      <td>0.246</td>\n",
       "      <td>239.590</td>\n",
       "      <td>2.000</td>\n",
       "      <td>0.000</td>\n",
       "      <td>0.000</td>\n",
       "      <td>0.0</td>\n",
       "    </tr>\n",
       "    <tr>\n",
       "      <th>1414007</th>\n",
       "      <td>24/8/2009</td>\n",
       "      <td>16:12:00</td>\n",
       "      <td>0.224</td>\n",
       "      <td>0.128</td>\n",
       "      <td>241.180</td>\n",
       "      <td>1.000</td>\n",
       "      <td>0.000</td>\n",
       "      <td>1.000</td>\n",
       "      <td>1.0</td>\n",
       "    </tr>\n",
       "  </tbody>\n",
       "</table>\n",
       "</div>"
      ],
      "text/plain": [
       "        16/12/2006  17:24:00  4.216  0.418  234.840 18.400  0.000  1.000  \\\n",
       "1992639  30/9/2010  12:04:00  0.496  0.304  244.700  2.400  0.000  1.000   \n",
       "1800405  20/5/2010  00:10:00  0.382  0.056  245.050  1.600  0.000  0.000   \n",
       "1562787  5/12/2009  23:52:00  2.316  0.110  240.280  9.600  0.000  0.000   \n",
       "868660   10/8/2008  23:05:00  0.430  0.246  239.590  2.000  0.000  0.000   \n",
       "1414007  24/8/2009  16:12:00  0.224  0.128  241.180  1.000  0.000  1.000   \n",
       "\n",
       "         17.000  \n",
       "1992639     1.0  \n",
       "1800405     1.0  \n",
       "1562787    19.0  \n",
       "868660      0.0  \n",
       "1414007     1.0  "
      ]
     },
     "execution_count": 13,
     "metadata": {},
     "output_type": "execute_result"
    }
   ],
   "source": [
    "df.head()"
   ]
  },
  {
   "cell_type": "code",
   "execution_count": 14,
   "metadata": {},
   "outputs": [],
   "source": [
    "show = False\n",
    "if show:\n",
    "    plt.figure(figsize=(12, 8))\n",
    "    plt.subplots_adjust(wspace=0.2)\n",
    "    plt.subplots_adjust(hspace=0.8)\n",
    "    for i in range(len(df.values[0])):\n",
    "        plt.subplot(5, 2, 1 + i)\n",
    "        plt.title(df.columns[i])\n",
    "        plt.plot([d[i] for d in original.values])\n",
    "    plt.show()"
   ]
  },
  {
   "cell_type": "code",
   "execution_count": 15,
   "metadata": {},
   "outputs": [],
   "source": [
    "from datetime import datetime\n",
    "\n",
    "\n",
    "def time_to_seconds_since_midnight(time_str):\n",
    "    time_obj = datetime.strptime(time_str, '%H:%M:%S')\n",
    "    return time_obj.hour * 3600 + time_obj.minute * 60 + time_obj.second\n",
    "\n",
    "\n",
    "# now = datetime.now()\n",
    "# seconds_since_midnight = (\n",
    "#     now -\n",
    "#     now.replace(hour=0, minute=0, second=0, microsecond=0)).total_seconds()\n",
    "# seconds_since_midnight\n"
   ]
  },
  {
   "cell_type": "code",
   "execution_count": 16,
   "metadata": {},
   "outputs": [
    {
     "data": {
      "application/vnd.jupyter.widget-view+json": {
       "model_id": "697b20030fee46eaa90e941f26d9de10",
       "version_major": 2,
       "version_minor": 0
      },
      "text/plain": [
       "  0%|          | 0/10 [00:00<?, ?it/s]"
      ]
     },
     "metadata": {},
     "output_type": "display_data"
    },
    {
     "ename": "ValueError",
     "evalue": "too many dimensions 'str'",
     "output_type": "error",
     "traceback": [
      "\u001b[1;31m---------------------------------------------------------------------------\u001b[0m",
      "\u001b[1;31mValueError\u001b[0m                                Traceback (most recent call last)",
      "\u001b[1;32m<ipython-input-16-8af3db0bcea7>\u001b[0m in \u001b[0;36m<module>\u001b[1;34m\u001b[0m\n\u001b[0;32m     11\u001b[0m \u001b[1;33m\u001b[0m\u001b[0m\n\u001b[0;32m     12\u001b[0m             \u001b[0my\u001b[0m \u001b[1;33m=\u001b[0m \u001b[0mrow\u001b[0m\u001b[1;33m[\u001b[0m\u001b[1;36m4\u001b[0m\u001b[1;33m]\u001b[0m\u001b[1;33m\u001b[0m\u001b[1;33m\u001b[0m\u001b[0m\n\u001b[1;32m---> 13\u001b[1;33m             \u001b[0mtarget\u001b[0m \u001b[1;33m=\u001b[0m \u001b[0mtorch\u001b[0m\u001b[1;33m.\u001b[0m\u001b[0mtensor\u001b[0m\u001b[1;33m(\u001b[0m\u001b[1;33m[\u001b[0m\u001b[0my\u001b[0m\u001b[1;33m]\u001b[0m\u001b[1;33m)\u001b[0m\u001b[1;33m\u001b[0m\u001b[1;33m\u001b[0m\u001b[0m\n\u001b[0m\u001b[0;32m     14\u001b[0m \u001b[1;33m\u001b[0m\u001b[0m\n\u001b[0;32m     15\u001b[0m             \u001b[0moptimizer\u001b[0m\u001b[1;33m.\u001b[0m\u001b[0mzero_grad\u001b[0m\u001b[1;33m(\u001b[0m\u001b[1;33m)\u001b[0m\u001b[1;33m\u001b[0m\u001b[1;33m\u001b[0m\u001b[0m\n",
      "\u001b[1;31mValueError\u001b[0m: too many dimensions 'str'"
     ]
    }
   ],
   "source": [
    "epochs = 10\n",
    "loses = []\n",
    "end = False\n",
    "with tqdm.notebook.tnrange(epochs) as pbar:\n",
    "    for i in pbar:\n",
    "        for row in df.values:\n",
    "\n",
    "            x = row[1]\n",
    "            x = time_to_seconds_since_midnight(x)\n",
    "            u = torch.tensor([x], dtype=torch.float)\n",
    "\n",
    "            y = row[4]\n",
    "            target = torch.tensor([y])\n",
    "\n",
    "            optimizer.zero_grad()\n",
    "\n",
    "            model.hidden_cell = (torch.zeros(1, 1, model.hidden_layer_size),\n",
    "                                 torch.zeros(1, 1, model.hidden_layer_size))\n",
    "\n",
    "            y_pred = model(u)\n",
    "\n",
    "            single_loss = loss_function(y_pred, target)\n",
    "            single_loss.backward()\n",
    "            optimizer.step()\n",
    "\n",
    "            # print(f'epoch: {i:3} loss: {single_loss.item():10.8f}')\n",
    "            loses.append(single_loss.item())\n",
    "\n",
    "        pbar.set_description(f'epoch: {i:3} loss: {loses[-1]:10.3f}')\n",
    "\n",
    "print(f'epoch: {i:3} loss: {single_loss.item():10.10f}')\n",
    "plt.yscale('log')\n",
    "plt.plot(loses)\n"
   ]
  },
  {
   "cell_type": "code",
   "execution_count": null,
   "metadata": {},
   "outputs": [
    {
     "data": {
      "text/plain": [
       "<matplotlib.legend.Legend at 0x19ce88a8cd0>"
      ]
     },
     "execution_count": 11,
     "metadata": {},
     "output_type": "execute_result"
    },
    {
     "data": {
      "image/png": "[encoded data removed]",
      "text/plain": [
       "<Figure size 432x288 with 1 Axes>"
      ]
     },
     "metadata": {
      "needs_background": "light"
     },
     "output_type": "display_data"
    }
   ],
   "source": [
    "errors = []\n",
    "predictions = []\n",
    "real = []\n",
    "time = []\n",
    "N = 1000\n",
    "for idx, row in enumerate(df.values):\n",
    "    x = row[1]\n",
    "    x = time_to_seconds_since_midnight(x)\n",
    "    u = torch.tensor([x], dtype=torch.float)\n",
    "    y = row[4]\n",
    "\n",
    "    y_pred = model(u)\n",
    "\n",
    "    predictions.append(model(torch.tensor([y_pred], dtype=torch.float)).item())\n",
    "    real.append(y)\n",
    "    errors.append(predictions[-1] - real[-1])\n",
    "\n",
    "    # if idx > 100:\n",
    "    #     break\n",
    "\n",
    "plt.plot(real, label='real')\n",
    "plt.plot(predictions, label='predictions')\n",
    "plt.legend()\n"
   ]
  },
  {
   "cell_type": "code",
   "execution_count": null,
   "metadata": {},
   "outputs": [
    {
     "data": {
      "text/plain": [
       "(array([1., 0., 1., 0., 0., 0., 1., 0., 0., 1., 0., 0., 1., 0., 1., 0., 1.,\n",
       "        3., 3., 1., 2., 0., 0., 2., 0., 0., 2., 0., 1., 1., 5., 1., 0., 0.,\n",
       "        0., 2., 2., 1., 1., 1., 2., 3., 0., 0., 0., 0., 2., 0., 2., 1., 2.,\n",
       "        1., 0., 0., 2., 1., 3., 3., 1., 3., 0., 1., 1., 2., 0., 0., 0., 3.,\n",
       "        0., 0., 1., 1., 1., 0., 2., 2., 0., 3., 2., 1., 2., 0., 3., 1., 2.,\n",
       "        3., 0., 0., 1., 0., 0., 1., 1., 0., 2., 1., 0., 1., 2., 1.]),\n",
       " array([31.93914185, 32.09604185, 32.25294185, 32.40984185, 32.56674185,\n",
       "        32.72364185, 32.88054185, 33.03744185, 33.19434185, 33.35124185,\n",
       "        33.50814185, 33.66504185, 33.82194185, 33.97884185, 34.13574185,\n",
       "        34.29264185, 34.44954185, 34.60644185, 34.76334185, 34.92024185,\n",
       "        35.07714185, 35.23404185, 35.39094185, 35.54784185, 35.70474185,\n",
       "        35.86164185, 36.01854185, 36.17544185, 36.33234185, 36.48924185,\n",
       "        36.64614185, 36.80304185, 36.95994185, 37.11684185, 37.27374185,\n",
       "        37.43064185, 37.58754185, 37.74444185, 37.90134185, 38.05824185,\n",
       "        38.21514185, 38.37204185, 38.52894185, 38.68584185, 38.84274185,\n",
       "        38.99964185, 39.15654185, 39.31344185, 39.47034185, 39.62724185,\n",
       "        39.78414185, 39.94104185, 40.09794185, 40.25484185, 40.41174185,\n",
       "        40.56864185, 40.72554185, 40.88244185, 41.03934185, 41.19624185,\n",
       "        41.35314185, 41.51004185, 41.66694185, 41.82384185, 41.98074185,\n",
       "        42.13764185, 42.29454185, 42.45144185, 42.60834185, 42.76524185,\n",
       "        42.92214185, 43.07904185, 43.23594185, 43.39284185, 43.54974185,\n",
       "        43.70664185, 43.86354185, 44.02044185, 44.17734185, 44.33424185,\n",
       "        44.49114185, 44.64804185, 44.80494185, 44.96184185, 45.11874185,\n",
       "        45.27564185, 45.43254185, 45.58944185, 45.74634185, 45.90324185,\n",
       "        46.06014185, 46.21704185, 46.37394185, 46.53084185, 46.68774185,\n",
       "        46.84464185, 47.00154185, 47.15844185, 47.31534185, 47.47224185,\n",
       "        47.62914185]),\n",
       " <BarContainer object of 100 artists>)"
      ]
     },
     "execution_count": 9,
     "metadata": {},
     "output_type": "execute_result"
    },
    {
     "data": {
      "image/png": "[encoded data removed]",
      "text/plain": [
       "<Figure size 432x288 with 1 Axes>"
      ]
     },
     "metadata": {
      "needs_background": "light"
     },
     "output_type": "display_data"
    }
   ],
   "source": [
    "plt.hist(errors, bins=100)"
   ]
  },
  {
   "cell_type": "code",
   "execution_count": null,
   "metadata": {},
   "outputs": [],
   "source": []
  }
 ],
 "metadata": {
  "interpreter": {
   "hash": "a3ed69b3942df4a15747229a4eaa0fa7704fffe0674029cb8e612bda7434a9c4"
  },
  "kernelspec": {
   "display_name": "Python 3.8.8 64-bit ('base': conda)",
   "language": "python",
   "name": "python3"
  },
  "language_info": {
   "codemirror_mode": {
    "name": "ipython",
    "version": 3
   },
   "file_extension": ".py",
   "mimetype": "text/x-python",
   "name": "python",
   "nbconvert_exporter": "python",
   "pygments_lexer": "ipython3",
   "version": "3.8.8"
  },
  "orig_nbformat": 4
 },
 "nbformat": 4,
 "nbformat_minor": 2
}

{
 "cells": [
  {
   "cell_type": "code",
   "execution_count": 26,
   "source": [
    "import torch\n",
    "import torchvision\n",
    "from torchsummary import summary"
   ],
   "outputs": [],
   "metadata": {}
  },
  {
   "cell_type": "code",
   "execution_count": 2,
   "source": [
    "n_epochs = 3\n",
    "batch_size_train = 64\n",
    "batch_size_test = 1000\n",
    "learning_rate = 0.01\n",
    "momentum = 0.5\n",
    "log_interval = 10\n",
    "\n",
    "random_seed = 1\n",
    "torch.backends.cudnn.enabled = False\n",
    "torch.manual_seed(random_seed)"
   ],
   "outputs": [
    {
     "output_type": "execute_result",
     "data": {
      "text/plain": [
       "<torch._C.Generator at 0x7f9ba005c250>"
      ]
     },
     "metadata": {},
     "execution_count": 2
    }
   ],
   "metadata": {}
  },
  {
   "cell_type": "code",
   "execution_count": 3,
   "source": [
    "train_loader = torch.utils.data.DataLoader(\n",
    "  torchvision.datasets.MNIST('./files/', train=True, download=True,\n",
    "                             transform=torchvision.transforms.Compose([\n",
    "                               torchvision.transforms.ToTensor(),\n",
    "                               torchvision.transforms.Normalize(\n",
    "                                 (0.1307,), (0.3081,))\n",
    "                             ])),\n",
    "  batch_size=batch_size_train, shuffle=True)\n",
    "\n",
    "test_loader = torch.utils.data.DataLoader(\n",
    "  torchvision.datasets.MNIST('./files/', train=False, download=True,\n",
    "                             transform=torchvision.transforms.Compose([\n",
    "                               torchvision.transforms.ToTensor(),\n",
    "                               torchvision.transforms.Normalize(\n",
    "                                 (0.1307,), (0.3081,))\n",
    "                             ])),\n",
    "  batch_size=batch_size_test, shuffle=True)"
   ],
   "outputs": [
    {
     "output_type": "stream",
     "name": "stderr",
     "text": [
      "/home/mateusz/anaconda3/envs/torch/lib/python3.9/site-packages/torchvision/datasets/mnist.py:498: UserWarning: The given NumPy array is not writeable, and PyTorch does not support non-writeable tensors. This means you can write to the underlying (supposedly non-writeable) NumPy array using the tensor. You may want to copy the array to protect its data or make it writeable before converting it to a tensor. This type of warning will be suppressed for the rest of this program. (Triggered internally at  /opt/conda/conda-bld/pytorch_1631630841592/work/torch/csrc/utils/tensor_numpy.cpp:180.)\n",
      "  return torch.from_numpy(parsed.astype(m[2], copy=False)).view(*s)\n"
     ]
    }
   ],
   "metadata": {}
  },
  {
   "cell_type": "code",
   "execution_count": 4,
   "source": [
    "examples = enumerate(test_loader)\n",
    "batch_idx, (example_data, example_targets) = next(examples)"
   ],
   "outputs": [],
   "metadata": {}
  },
  {
   "cell_type": "code",
   "execution_count": 5,
   "source": [
    "example_data.shape"
   ],
   "outputs": [
    {
     "output_type": "execute_result",
     "data": {
      "text/plain": [
       "torch.Size([1000, 1, 28, 28])"
      ]
     },
     "metadata": {},
     "execution_count": 5
    }
   ],
   "metadata": {}
  },
  {
   "cell_type": "code",
   "execution_count": 6,
   "source": [
    "!pip install matplotlib\n",
    "import matplotlib.pyplot as plt\n",
    "\n",
    "fig = plt.figure()\n",
    "for i in range(6):\n",
    "  plt.subplot(2,3,i+1)\n",
    "  plt.tight_layout()\n",
    "  plt.imshow(example_data[i][0], cmap='gray', interpolation='none')\n",
    "  plt.title(\"Ground Truth: {}\".format(example_targets[i]))\n",
    "  plt.xticks([])\n",
    "  plt.yticks([])\n",
    "fig"
   ],
   "outputs": [
    {
     "output_type": "stream",
     "name": "stdout",
     "text": [
      "Requirement already satisfied: matplotlib in /home/mateusz/anaconda3/envs/torch/lib/python3.9/site-packages (3.4.3)\n",
      "Requirement already satisfied: pyparsing>=2.2.1 in /home/mateusz/anaconda3/envs/torch/lib/python3.9/site-packages (from matplotlib) (2.4.7)\n",
      "Requirement already satisfied: kiwisolver>=1.0.1 in /home/mateusz/.local/lib/python3.9/site-packages (from matplotlib) (1.3.2)\n",
      "Requirement already satisfied: cycler>=0.10 in /home/mateusz/.local/lib/python3.9/site-packages (from matplotlib) (0.10.0)\n",
      "Requirement already satisfied: pillow>=6.2.0 in /home/mateusz/anaconda3/envs/torch/lib/python3.9/site-packages (from matplotlib) (8.3.1)\n",
      "Requirement already satisfied: python-dateutil>=2.7 in /home/mateusz/anaconda3/envs/torch/lib/python3.9/site-packages (from matplotlib) (2.8.2)\n",
      "Requirement already satisfied: numpy>=1.16 in /home/mateusz/anaconda3/envs/torch/lib/python3.9/site-packages (from matplotlib) (1.20.3)\n",
      "Requirement already satisfied: six in /home/mateusz/anaconda3/envs/torch/lib/python3.9/site-packages (from cycler>=0.10->matplotlib) (1.16.0)\n"
     ]
    },
    {
     "output_type": "execute_result",
     "data": {
      "image/png": "[encoded data removed]",
      "text/plain": [
       "<Figure size 432x288 with 6 Axes>"
      ]
     },
     "metadata": {},
     "execution_count": 6
    },
    {
     "output_type": "display_data",
     "data": {
      "image/png": "[encoded data removed]",
      "text/plain": [
       "<Figure size 432x288 with 6 Axes>"
      ]
     },
     "metadata": {}
    }
   ],
   "metadata": {}
  },
  {
   "cell_type": "code",
   "execution_count": 7,
   "source": [
    "import torch.nn as nn\n",
    "import torch.nn.functional as F\n",
    "import torch.optim as optim"
   ],
   "outputs": [],
   "metadata": {}
  },
  {
   "cell_type": "markdown",
   "source": [],
   "metadata": {}
  },
  {
   "cell_type": "code",
   "execution_count": 30,
   "source": [
    "class Net(nn.Module):\n",
    "    def __init__(self):\n",
    "        super(Net, self).__init__()\n",
    "        self.conv1 = nn.Conv2d(1, 10, kernel_size=5)\n",
    "        self.conv2 = nn.Conv2d(10, 20, kernel_size=5)\n",
    "        self.conv2_drop = nn.Dropout2d()\n",
    "        self.fc1 = nn.Linear(320, 50)\n",
    "        self.fc2 = nn.Linear(50, 10)\n",
    "\n",
    "    def forward(self, x):\n",
    "        print(x.shape)\n",
    "        x = F.relu(F.max_pool2d(self.conv1(x), 2))\n",
    "        x = F.relu(F.max_pool2d(self.conv2_drop(self.conv2(x)), 2))\n",
    "        x = x.view(-1, 320)\n",
    "        x = F.relu(self.fc1(x))\n",
    "        x = F.dropout(x, training=self.training)\n",
    "        x = self.fc2(x)\n",
    "        return F.log_softmax(x)"
   ],
   "outputs": [],
   "metadata": {}
  },
  {
   "cell_type": "code",
   "execution_count": 31,
   "source": [
    "network = Net().to('cuda')\n",
    "print(summary(network, input_size=(1, 28, 28)))\n",
    "optimizer = optim.SGD(network.parameters(), lr=learning_rate,\n",
    "                      momentum=momentum)"
   ],
   "outputs": [
    {
     "output_type": "stream",
     "name": "stdout",
     "text": [
      "torch.Size([2, 1, 28, 28])\n",
      "----------------------------------------------------------------\n",
      "        Layer (type)               Output Shape         Param #\n",
      "================================================================\n",
      "            Conv2d-1           [-1, 10, 24, 24]             260\n",
      "            Conv2d-2             [-1, 20, 8, 8]           5,020\n",
      "         Dropout2d-3             [-1, 20, 8, 8]               0\n",
      "            Linear-4                   [-1, 50]          16,050\n",
      "            Linear-5                   [-1, 10]             510\n",
      "================================================================\n",
      "Total params: 21,840\n",
      "Trainable params: 21,840\n",
      "Non-trainable params: 0\n",
      "----------------------------------------------------------------\n",
      "Input size (MB): 0.00\n",
      "Forward/backward pass size (MB): 0.06\n",
      "Params size (MB): 0.08\n",
      "Estimated Total Size (MB): 0.15\n",
      "----------------------------------------------------------------\n",
      "None\n"
     ]
    },
    {
     "output_type": "stream",
     "name": "stderr",
     "text": [
      "/tmp/ipykernel_18632/48031507.py:18: UserWarning: Implicit dimension choice for log_softmax has been deprecated. Change the call to include dim=X as an argument.\n",
      "  return F.log_softmax(x)\n"
     ]
    }
   ],
   "metadata": {}
  },
  {
   "cell_type": "code",
   "execution_count": 10,
   "source": [
    "train_losses = []\n",
    "train_counter = []\n",
    "test_losses = []\n",
    "test_counter = [i*len(train_loader.dataset) for i in range(n_epochs + 1)]"
   ],
   "outputs": [],
   "metadata": {}
  },
  {
   "cell_type": "code",
   "execution_count": 19,
   "source": [
    "def train(epoch):\n",
    "  network.train()\n",
    "  for batch_idx, (data, target) in enumerate(train_loader):\n",
    "    data = data.to('cuda')\n",
    "    target = target.to('cuda')\n",
    "    optimizer.zero_grad()\n",
    "    output = network(data)\n",
    "    loss = F.nll_loss(output, target)\n",
    "    loss.backward()\n",
    "    optimizer.step()\n",
    "    if batch_idx % log_interval == 0:\n",
    "      print('Train Epoch: {} [{}/{} ({:.0f}%)]\\tLoss: {:.6f}'.format(\n",
    "        epoch, batch_idx * len(data), len(train_loader.dataset),\n",
    "        100. * batch_idx / len(train_loader), loss.item()))\n",
    "      train_losses.append(loss.item())\n",
    "      train_counter.append(\n",
    "        (batch_idx*64) + ((epoch-1)*len(train_loader.dataset)))\n",
    "      torch.save(network.state_dict(), './results/model.pth')\n",
    "      torch.save(optimizer.state_dict(), './results/optimizer.pth')"
   ],
   "outputs": [],
   "metadata": {}
  },
  {
   "cell_type": "code",
   "execution_count": 20,
   "source": [
    "def test():\n",
    "  network.eval()\n",
    "  test_loss = 0\n",
    "  correct = 0\n",
    "  with torch.no_grad():\n",
    "    for data, target in test_loader:\n",
    "      data = data.to('cuda')\n",
    "      target = target.to('cuda')\n",
    "      output = network(data)\n",
    "      test_loss += F.nll_loss(output, target, size_average=False).item()\n",
    "      pred = output.data.max(1, keepdim=True)[1]\n",
    "      correct += pred.eq(target.data.view_as(pred)).sum()\n",
    "  test_loss /= len(test_loader.dataset)\n",
    "  test_losses.append(test_loss)\n",
    "  print('\\nTest set: Avg. loss: {:.4f}, Accuracy: {}/{} ({:.0f}%)\\n'.format(\n",
    "    test_loss, correct, len(test_loader.dataset),\n",
    "    100. * correct / len(test_loader.dataset)))"
   ],
   "outputs": [],
   "metadata": {}
  },
  {
   "cell_type": "code",
   "execution_count": 21,
   "source": [
    "test()\n",
    "for epoch in range(1, n_epochs + 1):\n",
    "  train(epoch)\n",
    "  test()"
   ],
   "outputs": [
    {
     "output_type": "stream",
     "name": "stderr",
     "text": [
      "/tmp/ipykernel_18632/161431047.py:17: UserWarning: Implicit dimension choice for log_softmax has been deprecated. Change the call to include dim=X as an argument.\n",
      "  return F.log_softmax(x)\n"
     ]
    },
    {
     "output_type": "stream",
     "name": "stdout",
     "text": [
      "\n",
      "Test set: Avg. loss: 2.3096, Accuracy: 924/10000 (9%)\n",
      "\n",
      "Train Epoch: 1 [0/60000 (0%)]\tLoss: 2.307683\n",
      "Train Epoch: 1 [640/60000 (1%)]\tLoss: 2.309908\n",
      "Train Epoch: 1 [1280/60000 (2%)]\tLoss: 2.260411\n",
      "Train Epoch: 1 [1920/60000 (3%)]\tLoss: 2.249268\n",
      "Train Epoch: 1 [2560/60000 (4%)]\tLoss: 2.234714\n",
      "Train Epoch: 1 [3200/60000 (5%)]\tLoss: 2.260613\n",
      "Train Epoch: 1 [3840/60000 (6%)]\tLoss: 2.202275\n",
      "Train Epoch: 1 [4480/60000 (7%)]\tLoss: 2.159321\n",
      "Train Epoch: 1 [5120/60000 (9%)]\tLoss: 2.153699\n",
      "Train Epoch: 1 [5760/60000 (10%)]\tLoss: 2.024236\n",
      "Train Epoch: 1 [6400/60000 (11%)]\tLoss: 1.908040\n",
      "Train Epoch: 1 [7040/60000 (12%)]\tLoss: 1.674136\n",
      "Train Epoch: 1 [7680/60000 (13%)]\tLoss: 1.689091\n",
      "Train Epoch: 1 [8320/60000 (14%)]\tLoss: 1.466923\n",
      "Train Epoch: 1 [8960/60000 (15%)]\tLoss: 1.386860\n",
      "Train Epoch: 1 [9600/60000 (16%)]\tLoss: 1.579789\n",
      "Train Epoch: 1 [10240/60000 (17%)]\tLoss: 1.244563\n",
      "Train Epoch: 1 [10880/60000 (18%)]\tLoss: 1.113796\n",
      "Train Epoch: 1 [11520/60000 (19%)]\tLoss: 1.069873\n",
      "Train Epoch: 1 [12160/60000 (20%)]\tLoss: 1.079069\n",
      "Train Epoch: 1 [12800/60000 (21%)]\tLoss: 1.386591\n",
      "Train Epoch: 1 [13440/60000 (22%)]\tLoss: 1.261585\n",
      "Train Epoch: 1 [14080/60000 (23%)]\tLoss: 1.056341\n",
      "Train Epoch: 1 [14720/60000 (25%)]\tLoss: 0.757924\n",
      "Train Epoch: 1 [15360/60000 (26%)]\tLoss: 1.066186\n",
      "Train Epoch: 1 [16000/60000 (27%)]\tLoss: 1.100529\n",
      "Train Epoch: 1 [16640/60000 (28%)]\tLoss: 1.024544\n",
      "Train Epoch: 1 [17280/60000 (29%)]\tLoss: 1.038859\n",
      "Train Epoch: 1 [17920/60000 (30%)]\tLoss: 0.828185\n",
      "Train Epoch: 1 [18560/60000 (31%)]\tLoss: 0.770683\n",
      "Train Epoch: 1 [19200/60000 (32%)]\tLoss: 0.710262\n",
      "Train Epoch: 1 [19840/60000 (33%)]\tLoss: 0.806532\n",
      "Train Epoch: 1 [20480/60000 (34%)]\tLoss: 0.751139\n",
      "Train Epoch: 1 [21120/60000 (35%)]\tLoss: 0.853194\n",
      "Train Epoch: 1 [21760/60000 (36%)]\tLoss: 0.864270\n",
      "Train Epoch: 1 [22400/60000 (37%)]\tLoss: 0.837703\n",
      "Train Epoch: 1 [23040/60000 (38%)]\tLoss: 0.762642\n",
      "Train Epoch: 1 [23680/60000 (39%)]\tLoss: 0.443500\n",
      "Train Epoch: 1 [24320/60000 (41%)]\tLoss: 0.790247\n",
      "Train Epoch: 1 [24960/60000 (42%)]\tLoss: 0.633735\n",
      "Train Epoch: 1 [25600/60000 (43%)]\tLoss: 0.675922\n",
      "Train Epoch: 1 [26240/60000 (44%)]\tLoss: 0.601438\n",
      "Train Epoch: 1 [26880/60000 (45%)]\tLoss: 0.658348\n",
      "Train Epoch: 1 [27520/60000 (46%)]\tLoss: 0.770695\n",
      "Train Epoch: 1 [28160/60000 (47%)]\tLoss: 0.705890\n",
      "Train Epoch: 1 [28800/60000 (48%)]\tLoss: 0.593137\n",
      "Train Epoch: 1 [29440/60000 (49%)]\tLoss: 0.688570\n",
      "Train Epoch: 1 [30080/60000 (50%)]\tLoss: 0.607453\n",
      "Train Epoch: 1 [30720/60000 (51%)]\tLoss: 0.640275\n",
      "Train Epoch: 1 [31360/60000 (52%)]\tLoss: 0.817352\n",
      "Train Epoch: 1 [32000/60000 (53%)]\tLoss: 0.439535\n",
      "Train Epoch: 1 [32640/60000 (54%)]\tLoss: 1.003646\n",
      "Train Epoch: 1 [33280/60000 (55%)]\tLoss: 0.575899\n",
      "Train Epoch: 1 [33920/60000 (57%)]\tLoss: 0.762595\n",
      "Train Epoch: 1 [34560/60000 (58%)]\tLoss: 0.763072\n",
      "Train Epoch: 1 [35200/60000 (59%)]\tLoss: 0.428863\n",
      "Train Epoch: 1 [35840/60000 (60%)]\tLoss: 0.449921\n",
      "Train Epoch: 1 [36480/60000 (61%)]\tLoss: 0.406325\n",
      "Train Epoch: 1 [37120/60000 (62%)]\tLoss: 0.757909\n",
      "Train Epoch: 1 [37760/60000 (63%)]\tLoss: 0.833319\n",
      "Train Epoch: 1 [38400/60000 (64%)]\tLoss: 0.513896\n",
      "Train Epoch: 1 [39040/60000 (65%)]\tLoss: 0.447257\n",
      "Train Epoch: 1 [39680/60000 (66%)]\tLoss: 0.605452\n",
      "Train Epoch: 1 [40320/60000 (67%)]\tLoss: 0.581578\n",
      "Train Epoch: 1 [40960/60000 (68%)]\tLoss: 0.667103\n",
      "Train Epoch: 1 [41600/60000 (69%)]\tLoss: 0.410352\n",
      "Train Epoch: 1 [42240/60000 (70%)]\tLoss: 0.423992\n",
      "Train Epoch: 1 [42880/60000 (71%)]\tLoss: 0.350924\n",
      "Train Epoch: 1 [43520/60000 (72%)]\tLoss: 0.460678\n",
      "Train Epoch: 1 [44160/60000 (74%)]\tLoss: 0.467274\n",
      "Train Epoch: 1 [44800/60000 (75%)]\tLoss: 0.428606\n",
      "Train Epoch: 1 [45440/60000 (76%)]\tLoss: 0.387989\n",
      "Train Epoch: 1 [46080/60000 (77%)]\tLoss: 0.550840\n",
      "Train Epoch: 1 [46720/60000 (78%)]\tLoss: 0.457670\n",
      "Train Epoch: 1 [47360/60000 (79%)]\tLoss: 0.595677\n",
      "Train Epoch: 1 [48000/60000 (80%)]\tLoss: 0.458875\n",
      "Train Epoch: 1 [48640/60000 (81%)]\tLoss: 0.368762\n",
      "Train Epoch: 1 [49280/60000 (82%)]\tLoss: 0.496462\n",
      "Train Epoch: 1 [49920/60000 (83%)]\tLoss: 0.395315\n",
      "Train Epoch: 1 [50560/60000 (84%)]\tLoss: 0.776278\n",
      "Train Epoch: 1 [51200/60000 (85%)]\tLoss: 0.390839\n",
      "Train Epoch: 1 [51840/60000 (86%)]\tLoss: 0.627657\n",
      "Train Epoch: 1 [52480/60000 (87%)]\tLoss: 0.390119\n",
      "Train Epoch: 1 [53120/60000 (88%)]\tLoss: 0.306858\n",
      "Train Epoch: 1 [53760/60000 (90%)]\tLoss: 0.413012\n",
      "Train Epoch: 1 [54400/60000 (91%)]\tLoss: 0.638696\n",
      "Train Epoch: 1 [55040/60000 (92%)]\tLoss: 0.606036\n",
      "Train Epoch: 1 [55680/60000 (93%)]\tLoss: 0.549569\n",
      "Train Epoch: 1 [56320/60000 (94%)]\tLoss: 0.644283\n",
      "Train Epoch: 1 [56960/60000 (95%)]\tLoss: 0.355644\n",
      "Train Epoch: 1 [57600/60000 (96%)]\tLoss: 0.298642\n",
      "Train Epoch: 1 [58240/60000 (97%)]\tLoss: 0.695281\n",
      "Train Epoch: 1 [58880/60000 (98%)]\tLoss: 0.631631\n",
      "Train Epoch: 1 [59520/60000 (99%)]\tLoss: 0.437801\n",
      "\n",
      "Test set: Avg. loss: 0.1850, Accuracy: 9445/10000 (94%)\n",
      "\n",
      "Train Epoch: 2 [0/60000 (0%)]\tLoss: 0.320895\n",
      "Train Epoch: 2 [640/60000 (1%)]\tLoss: 0.398642\n",
      "Train Epoch: 2 [1280/60000 (2%)]\tLoss: 0.532069\n",
      "Train Epoch: 2 [1920/60000 (3%)]\tLoss: 0.476501\n",
      "Train Epoch: 2 [2560/60000 (4%)]\tLoss: 0.363571\n",
      "Train Epoch: 2 [3200/60000 (5%)]\tLoss: 0.366016\n",
      "Train Epoch: 2 [3840/60000 (6%)]\tLoss: 0.510453\n",
      "Train Epoch: 2 [4480/60000 (7%)]\tLoss: 0.346421\n",
      "Train Epoch: 2 [5120/60000 (9%)]\tLoss: 0.651283\n",
      "Train Epoch: 2 [5760/60000 (10%)]\tLoss: 0.727955\n",
      "Train Epoch: 2 [6400/60000 (11%)]\tLoss: 0.545093\n",
      "Train Epoch: 2 [7040/60000 (12%)]\tLoss: 0.589966\n",
      "Train Epoch: 2 [7680/60000 (13%)]\tLoss: 0.420211\n",
      "Train Epoch: 2 [8320/60000 (14%)]\tLoss: 0.474403\n",
      "Train Epoch: 2 [8960/60000 (15%)]\tLoss: 0.169403\n",
      "Train Epoch: 2 [9600/60000 (16%)]\tLoss: 0.422825\n",
      "Train Epoch: 2 [10240/60000 (17%)]\tLoss: 0.228948\n",
      "Train Epoch: 2 [10880/60000 (18%)]\tLoss: 0.360918\n",
      "Train Epoch: 2 [11520/60000 (19%)]\tLoss: 0.672882\n",
      "Train Epoch: 2 [12160/60000 (20%)]\tLoss: 0.540369\n",
      "Train Epoch: 2 [12800/60000 (21%)]\tLoss: 0.562303\n",
      "Train Epoch: 2 [13440/60000 (22%)]\tLoss: 0.545597\n",
      "Train Epoch: 2 [14080/60000 (23%)]\tLoss: 0.325202\n",
      "Train Epoch: 2 [14720/60000 (25%)]\tLoss: 0.471305\n",
      "Train Epoch: 2 [15360/60000 (26%)]\tLoss: 0.327530\n",
      "Train Epoch: 2 [16000/60000 (27%)]\tLoss: 0.481262\n",
      "Train Epoch: 2 [16640/60000 (28%)]\tLoss: 0.398195\n",
      "Train Epoch: 2 [17280/60000 (29%)]\tLoss: 0.311578\n",
      "Train Epoch: 2 [17920/60000 (30%)]\tLoss: 0.849605\n",
      "Train Epoch: 2 [18560/60000 (31%)]\tLoss: 0.676444\n",
      "Train Epoch: 2 [19200/60000 (32%)]\tLoss: 0.454304\n",
      "Train Epoch: 2 [19840/60000 (33%)]\tLoss: 0.496099\n",
      "Train Epoch: 2 [20480/60000 (34%)]\tLoss: 0.376552\n",
      "Train Epoch: 2 [21120/60000 (35%)]\tLoss: 0.445719\n",
      "Train Epoch: 2 [21760/60000 (36%)]\tLoss: 0.519951\n",
      "Train Epoch: 2 [22400/60000 (37%)]\tLoss: 0.282003\n",
      "Train Epoch: 2 [23040/60000 (38%)]\tLoss: 0.363962\n",
      "Train Epoch: 2 [23680/60000 (39%)]\tLoss: 0.595079\n",
      "Train Epoch: 2 [24320/60000 (41%)]\tLoss: 0.554252\n",
      "Train Epoch: 2 [24960/60000 (42%)]\tLoss: 0.500441\n",
      "Train Epoch: 2 [25600/60000 (43%)]\tLoss: 0.538907\n",
      "Train Epoch: 2 [26240/60000 (44%)]\tLoss: 0.353323\n",
      "Train Epoch: 2 [26880/60000 (45%)]\tLoss: 0.212478\n",
      "Train Epoch: 2 [27520/60000 (46%)]\tLoss: 0.378366\n",
      "Train Epoch: 2 [28160/60000 (47%)]\tLoss: 0.376826\n",
      "Train Epoch: 2 [28800/60000 (48%)]\tLoss: 0.351703\n",
      "Train Epoch: 2 [29440/60000 (49%)]\tLoss: 0.346566\n",
      "Train Epoch: 2 [30080/60000 (50%)]\tLoss: 0.523456\n",
      "Train Epoch: 2 [30720/60000 (51%)]\tLoss: 0.320198\n",
      "Train Epoch: 2 [31360/60000 (52%)]\tLoss: 0.546514\n",
      "Train Epoch: 2 [32000/60000 (53%)]\tLoss: 0.329928\n",
      "Train Epoch: 2 [32640/60000 (54%)]\tLoss: 0.252523\n",
      "Train Epoch: 2 [33280/60000 (55%)]\tLoss: 0.375414\n",
      "Train Epoch: 2 [33920/60000 (57%)]\tLoss: 0.444638\n",
      "Train Epoch: 2 [34560/60000 (58%)]\tLoss: 0.614094\n",
      "Train Epoch: 2 [35200/60000 (59%)]\tLoss: 0.349788\n",
      "Train Epoch: 2 [35840/60000 (60%)]\tLoss: 0.496845\n",
      "Train Epoch: 2 [36480/60000 (61%)]\tLoss: 0.429064\n",
      "Train Epoch: 2 [37120/60000 (62%)]\tLoss: 0.217153\n",
      "Train Epoch: 2 [37760/60000 (63%)]\tLoss: 0.557692\n",
      "Train Epoch: 2 [38400/60000 (64%)]\tLoss: 0.193190\n",
      "Train Epoch: 2 [39040/60000 (65%)]\tLoss: 0.429708\n",
      "Train Epoch: 2 [39680/60000 (66%)]\tLoss: 0.341856\n",
      "Train Epoch: 2 [40320/60000 (67%)]\tLoss: 0.398639\n",
      "Train Epoch: 2 [40960/60000 (68%)]\tLoss: 0.374299\n",
      "Train Epoch: 2 [41600/60000 (69%)]\tLoss: 0.289684\n",
      "Train Epoch: 2 [42240/60000 (70%)]\tLoss: 0.311173\n",
      "Train Epoch: 2 [42880/60000 (71%)]\tLoss: 0.480634\n",
      "Train Epoch: 2 [43520/60000 (72%)]\tLoss: 0.253181\n",
      "Train Epoch: 2 [44160/60000 (74%)]\tLoss: 0.328888\n",
      "Train Epoch: 2 [44800/60000 (75%)]\tLoss: 0.285276\n",
      "Train Epoch: 2 [45440/60000 (76%)]\tLoss: 0.413519\n",
      "Train Epoch: 2 [46080/60000 (77%)]\tLoss: 0.288201\n",
      "Train Epoch: 2 [46720/60000 (78%)]\tLoss: 0.364574\n",
      "Train Epoch: 2 [47360/60000 (79%)]\tLoss: 0.201421\n",
      "Train Epoch: 2 [48000/60000 (80%)]\tLoss: 0.248375\n",
      "Train Epoch: 2 [48640/60000 (81%)]\tLoss: 0.193636\n",
      "Train Epoch: 2 [49280/60000 (82%)]\tLoss: 0.398789\n",
      "Train Epoch: 2 [49920/60000 (83%)]\tLoss: 0.330024\n",
      "Train Epoch: 2 [50560/60000 (84%)]\tLoss: 0.256553\n",
      "Train Epoch: 2 [51200/60000 (85%)]\tLoss: 0.155026\n",
      "Train Epoch: 2 [51840/60000 (86%)]\tLoss: 0.228173\n",
      "Train Epoch: 2 [52480/60000 (87%)]\tLoss: 0.295323\n",
      "Train Epoch: 2 [53120/60000 (88%)]\tLoss: 0.530409\n",
      "Train Epoch: 2 [53760/60000 (90%)]\tLoss: 0.447966\n",
      "Train Epoch: 2 [54400/60000 (91%)]\tLoss: 0.239094\n",
      "Train Epoch: 2 [55040/60000 (92%)]\tLoss: 0.314844\n",
      "Train Epoch: 2 [55680/60000 (93%)]\tLoss: 0.255753\n",
      "Train Epoch: 2 [56320/60000 (94%)]\tLoss: 0.253167\n",
      "Train Epoch: 2 [56960/60000 (95%)]\tLoss: 0.196144\n",
      "Train Epoch: 2 [57600/60000 (96%)]\tLoss: 0.183014\n",
      "Train Epoch: 2 [58240/60000 (97%)]\tLoss: 0.372598\n",
      "Train Epoch: 2 [58880/60000 (98%)]\tLoss: 0.211440\n",
      "Train Epoch: 2 [59520/60000 (99%)]\tLoss: 0.305566\n",
      "\n",
      "Test set: Avg. loss: 0.1180, Accuracy: 9641/10000 (96%)\n",
      "\n",
      "Train Epoch: 3 [0/60000 (0%)]\tLoss: 0.406455\n",
      "Train Epoch: 3 [640/60000 (1%)]\tLoss: 0.402672\n",
      "Train Epoch: 3 [1280/60000 (2%)]\tLoss: 0.511608\n",
      "Train Epoch: 3 [1920/60000 (3%)]\tLoss: 0.531854\n",
      "Train Epoch: 3 [2560/60000 (4%)]\tLoss: 0.326010\n",
      "Train Epoch: 3 [3200/60000 (5%)]\tLoss: 0.249601\n",
      "Train Epoch: 3 [3840/60000 (6%)]\tLoss: 0.290353\n",
      "Train Epoch: 3 [4480/60000 (7%)]\tLoss: 0.201483\n",
      "Train Epoch: 3 [5120/60000 (9%)]\tLoss: 0.282177\n",
      "Train Epoch: 3 [5760/60000 (10%)]\tLoss: 0.319896\n",
      "Train Epoch: 3 [6400/60000 (11%)]\tLoss: 0.438812\n",
      "Train Epoch: 3 [7040/60000 (12%)]\tLoss: 0.361022\n",
      "Train Epoch: 3 [7680/60000 (13%)]\tLoss: 0.417604\n",
      "Train Epoch: 3 [8320/60000 (14%)]\tLoss: 0.250337\n",
      "Train Epoch: 3 [8960/60000 (15%)]\tLoss: 0.481155\n",
      "Train Epoch: 3 [9600/60000 (16%)]\tLoss: 0.473398\n",
      "Train Epoch: 3 [10240/60000 (17%)]\tLoss: 0.205232\n",
      "Train Epoch: 3 [10880/60000 (18%)]\tLoss: 0.438376\n",
      "Train Epoch: 3 [11520/60000 (19%)]\tLoss: 0.233327\n",
      "Train Epoch: 3 [12160/60000 (20%)]\tLoss: 0.262504\n",
      "Train Epoch: 3 [12800/60000 (21%)]\tLoss: 0.321664\n",
      "Train Epoch: 3 [13440/60000 (22%)]\tLoss: 0.183639\n",
      "Train Epoch: 3 [14080/60000 (23%)]\tLoss: 0.224118\n",
      "Train Epoch: 3 [14720/60000 (25%)]\tLoss: 0.180576\n",
      "Train Epoch: 3 [15360/60000 (26%)]\tLoss: 0.225803\n",
      "Train Epoch: 3 [16000/60000 (27%)]\tLoss: 0.300126\n",
      "Train Epoch: 3 [16640/60000 (28%)]\tLoss: 0.146551\n",
      "Train Epoch: 3 [17280/60000 (29%)]\tLoss: 0.391251\n",
      "Train Epoch: 3 [17920/60000 (30%)]\tLoss: 0.138844\n",
      "Train Epoch: 3 [18560/60000 (31%)]\tLoss: 0.409228\n",
      "Train Epoch: 3 [19200/60000 (32%)]\tLoss: 0.464179\n",
      "Train Epoch: 3 [19840/60000 (33%)]\tLoss: 0.279710\n",
      "Train Epoch: 3 [20480/60000 (34%)]\tLoss: 0.193029\n",
      "Train Epoch: 3 [21120/60000 (35%)]\tLoss: 0.270359\n",
      "Train Epoch: 3 [21760/60000 (36%)]\tLoss: 0.207626\n",
      "Train Epoch: 3 [22400/60000 (37%)]\tLoss: 0.249777\n",
      "Train Epoch: 3 [23040/60000 (38%)]\tLoss: 0.240150\n",
      "Train Epoch: 3 [23680/60000 (39%)]\tLoss: 0.138012\n",
      "Train Epoch: 3 [24320/60000 (41%)]\tLoss: 0.160799\n",
      "Train Epoch: 3 [24960/60000 (42%)]\tLoss: 0.407034\n",
      "Train Epoch: 3 [25600/60000 (43%)]\tLoss: 0.218275\n",
      "Train Epoch: 3 [26240/60000 (44%)]\tLoss: 0.208432\n",
      "Train Epoch: 3 [26880/60000 (45%)]\tLoss: 0.271896\n",
      "Train Epoch: 3 [27520/60000 (46%)]\tLoss: 0.299390\n",
      "Train Epoch: 3 [28160/60000 (47%)]\tLoss: 0.265569\n",
      "Train Epoch: 3 [28800/60000 (48%)]\tLoss: 0.148295\n",
      "Train Epoch: 3 [29440/60000 (49%)]\tLoss: 0.351746\n",
      "Train Epoch: 3 [30080/60000 (50%)]\tLoss: 0.431277\n",
      "Train Epoch: 3 [30720/60000 (51%)]\tLoss: 0.225235\n",
      "Train Epoch: 3 [31360/60000 (52%)]\tLoss: 0.240070\n",
      "Train Epoch: 3 [32000/60000 (53%)]\tLoss: 0.266666\n",
      "Train Epoch: 3 [32640/60000 (54%)]\tLoss: 0.212678\n",
      "Train Epoch: 3 [33280/60000 (55%)]\tLoss: 0.250006\n",
      "Train Epoch: 3 [33920/60000 (57%)]\tLoss: 0.125994\n",
      "Train Epoch: 3 [34560/60000 (58%)]\tLoss: 0.371886\n",
      "Train Epoch: 3 [35200/60000 (59%)]\tLoss: 0.213134\n",
      "Train Epoch: 3 [35840/60000 (60%)]\tLoss: 0.173629\n",
      "Train Epoch: 3 [36480/60000 (61%)]\tLoss: 0.667809\n",
      "Train Epoch: 3 [37120/60000 (62%)]\tLoss: 0.163537\n",
      "Train Epoch: 3 [37760/60000 (63%)]\tLoss: 0.198482\n",
      "Train Epoch: 3 [38400/60000 (64%)]\tLoss: 0.211662\n",
      "Train Epoch: 3 [39040/60000 (65%)]\tLoss: 0.366186\n",
      "Train Epoch: 3 [39680/60000 (66%)]\tLoss: 0.402262\n",
      "Train Epoch: 3 [40320/60000 (67%)]\tLoss: 0.213896\n",
      "Train Epoch: 3 [40960/60000 (68%)]\tLoss: 0.207196\n",
      "Train Epoch: 3 [41600/60000 (69%)]\tLoss: 0.252464\n",
      "Train Epoch: 3 [42240/60000 (70%)]\tLoss: 0.456138\n",
      "Train Epoch: 3 [42880/60000 (71%)]\tLoss: 0.287580\n",
      "Train Epoch: 3 [43520/60000 (72%)]\tLoss: 0.201077\n",
      "Train Epoch: 3 [44160/60000 (74%)]\tLoss: 0.189045\n",
      "Train Epoch: 3 [44800/60000 (75%)]\tLoss: 0.315325\n",
      "Train Epoch: 3 [45440/60000 (76%)]\tLoss: 0.150850\n",
      "Train Epoch: 3 [46080/60000 (77%)]\tLoss: 0.373092\n",
      "Train Epoch: 3 [46720/60000 (78%)]\tLoss: 0.128280\n",
      "Train Epoch: 3 [47360/60000 (79%)]\tLoss: 0.408210\n",
      "Train Epoch: 3 [48000/60000 (80%)]\tLoss: 0.275114\n",
      "Train Epoch: 3 [48640/60000 (81%)]\tLoss: 0.207726\n",
      "Train Epoch: 3 [49280/60000 (82%)]\tLoss: 0.187411\n",
      "Train Epoch: 3 [49920/60000 (83%)]\tLoss: 0.147358\n",
      "Train Epoch: 3 [50560/60000 (84%)]\tLoss: 0.138975\n",
      "Train Epoch: 3 [51200/60000 (85%)]\tLoss: 0.234426\n",
      "Train Epoch: 3 [51840/60000 (86%)]\tLoss: 0.268916\n",
      "Train Epoch: 3 [52480/60000 (87%)]\tLoss: 0.411469\n",
      "Train Epoch: 3 [53120/60000 (88%)]\tLoss: 0.228062\n",
      "Train Epoch: 3 [53760/60000 (90%)]\tLoss: 0.295179\n",
      "Train Epoch: 3 [54400/60000 (91%)]\tLoss: 0.220085\n",
      "Train Epoch: 3 [55040/60000 (92%)]\tLoss: 0.226062\n",
      "Train Epoch: 3 [55680/60000 (93%)]\tLoss: 0.251802\n",
      "Train Epoch: 3 [56320/60000 (94%)]\tLoss: 0.227790\n",
      "Train Epoch: 3 [56960/60000 (95%)]\tLoss: 0.181342\n",
      "Train Epoch: 3 [57600/60000 (96%)]\tLoss: 0.334232\n",
      "Train Epoch: 3 [58240/60000 (97%)]\tLoss: 0.298619\n",
      "Train Epoch: 3 [58880/60000 (98%)]\tLoss: 0.319251\n",
      "Train Epoch: 3 [59520/60000 (99%)]\tLoss: 0.227393\n",
      "\n",
      "Test set: Avg. loss: 0.0962, Accuracy: 9708/10000 (97%)\n",
      "\n"
     ]
    }
   ],
   "metadata": {}
  },
  {
   "cell_type": "code",
   "execution_count": 23,
   "source": [
    "fig = plt.figure()\n",
    "plt.plot(train_counter, train_losses, color='blue')\n",
    "# plt.scatter(test_counter, test_losses, color='red')\n",
    "plt.legend(['Train Loss', 'Test Loss'], loc='upper right')\n",
    "plt.xlabel('number of training examples seen')\n",
    "plt.ylabel('negative log likelihood loss')\n",
    "fig"
   ],
   "outputs": [
    {
     "output_type": "execute_result",
     "data": {
      "image/png": "[encoded data removed]",
      "text/plain": [
       "<Figure size 432x288 with 1 Axes>"
      ]
     },
     "metadata": {},
     "execution_count": 23
    },
    {
     "output_type": "display_data",
     "data": {
      "image/png": "[encoded data removed]",
      "text/plain": [
       "<Figure size 432x288 with 1 Axes>"
      ]
     },
     "metadata": {
      "needs_background": "light"
     }
    }
   ],
   "metadata": {}
  },
  {
   "cell_type": "code",
   "execution_count": null,
   "source": [],
   "outputs": [],
   "metadata": {}
  }
 ],
 "metadata": {
  "orig_nbformat": 4,
  "language_info": {
   "name": "python",
   "version": "3.9.7",
   "mimetype": "text/x-python",
   "codemirror_mode": {
    "name": "ipython",
    "version": 3
   },
   "pygments_lexer": "ipython3",
   "nbconvert_exporter": "python",
   "file_extension": ".py"
  },
  "kernelspec": {
   "name": "python3",
   "display_name": "Python 3.9.7 64-bit ('torch': conda)"
  },
  "interpreter": {
   "hash": "c5bd69e78ac4ca27e419514c117576c0f971fefcab49392b81ad3736e60d7ae5"
  }
 },
 "nbformat": 4,
 "nbformat_minor": 2
}
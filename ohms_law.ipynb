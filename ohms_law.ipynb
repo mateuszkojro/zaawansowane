{
 "cells": [
  {
   "cell_type": "code",
   "execution_count": 1,
   "metadata": {},
   "outputs": [],
   "source": [
    "import torch\n",
    "import torch.nn as nn\n",
    "import seaborn as sns\n",
    "import numpy as np\n",
    "import pandas as pd\n",
    "import matplotlib.pyplot as plt\n",
    "%matplotlib inline"
   ]
  },
  {
   "cell_type": "code",
   "execution_count": 2,
   "metadata": {},
   "outputs": [],
   "source": [
    "class LSTM(nn.Module):\n",
    "    def __init__(self, input_size=1, hidden_layer_size=100, output_size=1):\n",
    "        super().__init__()\n",
    "        self.hidden_layer_size = hidden_layer_size\n",
    "\n",
    "        self.lstm = nn.LSTM(input_size, hidden_layer_size)\n",
    "\n",
    "        self.linear = nn.Linear(hidden_layer_size, output_size)\n",
    "\n",
    "        self.hidden_cell = (torch.zeros(1,1,self.hidden_layer_size),\n",
    "                            torch.zeros(1,1,self.hidden_layer_size))\n",
    "\n",
    "    def forward(self, input_seq):\n",
    "        lstm_out, self.hidden_cell = self.lstm(input_seq.view(len(input_seq) ,1, -1), self.hidden_cell)\n",
    "        predictions = self.linear(lstm_out.view(len(input_seq), -1))\n",
    "        return predictions[-1]"
   ]
  },
  {
   "cell_type": "code",
   "execution_count": 3,
   "metadata": {},
   "outputs": [],
   "source": [
    "model = LSTM()\n",
    "loss_function = nn.MSELoss()\n",
    "optimizer = torch.optim.Adam(model.parameters(), lr=0.001)"
   ]
  },
  {
   "cell_type": "code",
   "execution_count": 4,
   "metadata": {},
   "outputs": [
    {
     "name": "stdout",
     "output_type": "stream",
     "text": [
      "epoch:   1 loss: 364.18630981\n",
      "epoch:  26 loss: 28.46475983\n",
      "epoch:  51 loss: 0.47589546\n",
      "epoch:  53 loss: 0.0000880624\n"
     ]
    },
    {
     "data": {
      "text/plain": [
       "[<matplotlib.lines.Line2D at 0x2a5107144f0>]"
      ]
     },
     "execution_count": 4,
     "metadata": {},
     "output_type": "execute_result"
    },
    {
     "data": {
      "image/png": "[encoded data removed]",
      "text/plain": [
       "<Figure size 432x288 with 1 Axes>"
      ]
     },
     "metadata": {
      "needs_background": "light"
     },
     "output_type": "display_data"
    }
   ],
   "source": [
    "\n",
    "r = 100  # ohm\n",
    "\n",
    "\n",
    "def I(u):\n",
    "    global r\n",
    "    return r * u\n",
    "\n",
    "\n",
    "epochs = 300\n",
    "\n",
    "loses = []\n",
    "end =False\n",
    "for i in range(epochs):\n",
    "    for u in np.random.rand(100,):\n",
    "        u = torch.tensor([u], dtype=torch.float)\n",
    "        target = torch.tensor([I(u)])\n",
    "        optimizer.zero_grad()\n",
    "        model.hidden_cell = (torch.zeros(1, 1, model.hidden_layer_size),\n",
    "                             torch.zeros(1, 1, model.hidden_layer_size))\n",
    "\n",
    "        y_pred = model(u)\n",
    "    \n",
    "        single_loss = loss_function(y_pred, target)\n",
    "        single_loss.backward()\n",
    "        optimizer.step()\n",
    "    if i%25 == 1:\n",
    "        print(f'epoch: {i:3} loss: {single_loss.item():10.8f}')\n",
    "        loses.append(single_loss.item())\n",
    "    if single_loss.item() < 0.0001:\n",
    "        end = True\n",
    "        break\n",
    "    if end:\n",
    "        break\n",
    "\n",
    "print(f'epoch: {i:3} loss: {single_loss.item():10.10f}')\n",
    "plt.yscale('log')\n",
    "plt.plot(loses)\n"
   ]
  },
  {
   "cell_type": "code",
   "execution_count": 10,
   "metadata": {},
   "outputs": [
    {
     "data": {
      "text/plain": [
       "<matplotlib.legend.Legend at 0x2a514adddf0>"
      ]
     },
     "execution_count": 10,
     "metadata": {},
     "output_type": "execute_result"
    },
    {
     "data": {
      "image/png": "[encoded data removed]",
      "text/plain": [
       "<Figure size 432x288 with 1 Axes>"
      ]
     },
     "metadata": {
      "needs_background": "light"
     },
     "output_type": "display_data"
    }
   ],
   "source": [
    "\n",
    "errors = []\n",
    "predictions = []\n",
    "real = []\n",
    "time = []\n",
    "N = 1000\n",
    "for u in range(1, N):\n",
    "    real.append(I(u/N))\n",
    "    predictions.append(model(torch.tensor([u/N], dtype=torch.float)).item())\n",
    "    errors.append(predictions[-1] - real[-1])\n",
    "\n",
    "plt.plot(real, label='real')\n",
    "plt.plot(predictions, label='predictions')\n",
    "plt.legend()\n"
   ]
  },
  {
   "cell_type": "code",
   "execution_count": 11,
   "metadata": {},
   "outputs": [
    {
     "data": {
      "text/plain": [
       "(array([ 13.,  11.,  10.,  11.,  11.,  10.,  10.,  10.,  10.,  10.,  10.,\n",
       "         11.,  10.,  10.,  11.,  10.,  10.,  11.,  10.,  11.,  11.,  12.,\n",
       "         11.,  12.,  12.,  12.,  13.,  13.,  13.,  22.,  28.,  29.,  30.,\n",
       "         31.,  33.,  35.,  36.,  41.,  43.,  50.,  59.,  77., 164.,   0.,\n",
       "          0.,   0.,   0.,   0.,   0.,   0.,   0.,   0.,   0.,   0.,   1.,\n",
       "          0.,   0.,   0.,   0.,   0.,   0.,   0.,   0.,   0.,   0.,   0.,\n",
       "          0.,   0.,   0.,   0.,   0.,   0.,   0.,   0.,   0.,   0.,   0.,\n",
       "          0.,   0.,   0.,   0.,   0.,   0.,   0.,   0.,   0.,   0.,   0.,\n",
       "          0.,   0.,   0.,   0.,   0.,   0.,   0.,   0.,   0.,   0.,   0.,\n",
       "          1.]),\n",
       " array([-2.87644401, -2.24396712, -1.61149023, -0.97901334, -0.34653645,\n",
       "         0.28594043,  0.91841732,  1.55089421,  2.1833711 ,  2.81584799,\n",
       "         3.44832488,  4.08080176,  4.71327865,  5.34575554,  5.97823243,\n",
       "         6.61070932,  7.2431862 ,  7.87566309,  8.50813998,  9.14061687,\n",
       "         9.77309376, 10.40557065, 11.03804753, 11.67052442, 12.30300131,\n",
       "        12.9354782 , 13.56795509, 14.20043197, 14.83290886, 15.46538575,\n",
       "        16.09786264, 16.73033953, 17.36281642, 17.9952933 , 18.62777019,\n",
       "        19.26024708, 19.89272397, 20.52520086, 21.15767774, 21.79015463,\n",
       "        22.42263152, 23.05510841, 23.6875853 , 24.32006219, 24.95253907,\n",
       "        25.58501596, 26.21749285, 26.84996974, 27.48244663, 28.11492351,\n",
       "        28.7474004 , 29.37987729, 30.01235418, 30.64483107, 31.27730796,\n",
       "        31.90978484, 32.54226173, 33.17473862, 33.80721551, 34.4396924 ,\n",
       "        35.07216928, 35.70464617, 36.33712306, 36.96959995, 37.60207684,\n",
       "        38.23455373, 38.86703061, 39.4995075 , 40.13198439, 40.76446128,\n",
       "        41.39693817, 42.02941505, 42.66189194, 43.29436883, 43.92684572,\n",
       "        44.55932261, 45.1917995 , 45.82427638, 46.45675327, 47.08923016,\n",
       "        47.72170705, 48.35418394, 48.98666082, 49.61913771, 50.2516146 ,\n",
       "        50.88409149, 51.51656838, 52.14904527, 52.78152215, 53.41399904,\n",
       "        54.04647593, 54.67895282, 55.31142971, 55.94390659, 56.57638348,\n",
       "        57.20886037, 57.84133726, 58.47381415, 59.10629104, 59.73876792,\n",
       "        60.37124481]),\n",
       " <BarContainer object of 100 artists>)"
      ]
     },
     "execution_count": 11,
     "metadata": {},
     "output_type": "execute_result"
    },
    {
     "data": {
      "image/png": "[encoded data removed]",
      "text/plain": [
       "<Figure size 432x288 with 1 Axes>"
      ]
     },
     "metadata": {
      "needs_background": "light"
     },
     "output_type": "display_data"
    }
   ],
   "source": [
    "plt.hist(errors, bins=100)"
   ]
  },
  {
   "cell_type": "code",
   "execution_count": null,
   "metadata": {},
   "outputs": [],
   "source": []
  }
 ],
 "metadata": {
  "interpreter": {
   "hash": "a3ed69b3942df4a15747229a4eaa0fa7704fffe0674029cb8e612bda7434a9c4"
  },
  "kernelspec": {
   "display_name": "Python 3.8.8 64-bit ('base': conda)",
   "language": "python",
   "name": "python3"
  },
  "language_info": {
   "codemirror_mode": {
    "name": "ipython",
    "version": 3
   },
   "file_extension": ".py",
   "mimetype": "text/x-python",
   "name": "python",
   "nbconvert_exporter": "python",
   "pygments_lexer": "ipython3",
   "version": "3.8.8"
  },
  "orig_nbformat": 4
 },
 "nbformat": 4,
 "nbformat_minor": 2
}

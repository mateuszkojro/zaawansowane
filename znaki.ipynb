{
 "cells": [
  {
   "cell_type": "code",
   "execution_count": 1,
   "metadata": {},
   "outputs": [],
   "source": [
    "# general traffic sign reckognition benchmark GTSDB\n",
    "# Kaggle.com - zbiory danych - Titanic\n",
    "# vgg, googleNet, Alexet, ResNet, DanNEt"
   ]
  },
  {
   "cell_type": "code",
   "execution_count": 2,
   "metadata": {},
   "outputs": [],
   "source": [
    "# The German Traffic Sign Recognition Benchmark\n",
    "#\n",
    "# sample code for reading the traffic sign images and the\n",
    "# corresponding labels\n",
    "#\n",
    "# example:\n",
    "#\n",
    "# trainImages, trainLabels = readTrafficSigns('GTSRB/Training')\n",
    "# print len(trainLabels), len(trainImages)\n",
    "# plt.imshow(trainImages[42])\n",
    "# plt.show()\n",
    "#\n",
    "# have fun, Christian\n",
    "\n",
    "import matplotlib.pyplot as plt\n",
    "import csv\n",
    "\n",
    "\n",
    "# function for reading the images\n",
    "# arguments: path to the traffic sign data, for example './GTSRB/Training'\n",
    "# returns: list of images, list of corresponding labels\n",
    "def readTrafficSigns(rootpath):\n",
    "    '''Reads traffic sign data for German Traffic Sign Recognition Benchmark.\n",
    "\n",
    "    Arguments: path to the traffic sign data, for example './GTSRB/Training'\n",
    "    Returns:   list of images, list of corresponding labels'''\n",
    "    images = []  # images\n",
    "    labels = []  # corresponding labels\n",
    "    # loop over all 42 classes\n",
    "    for c in range(0, 43):\n",
    "        prefix = rootpath + '/' + format(c,\n",
    "                                         '05d') + '/'  # subdirectory for class\n",
    "        gtFile = open(prefix + 'GT-' + format(c, '05d') +\n",
    "                      '.csv')  # annotations file\n",
    "        gtReader = csv.reader(gtFile,\n",
    "                              delimiter=';')  # csv parser for annotations file\n",
    "        gtReader.next()  # skip header\n",
    "        # loop over all images in current annotations file\n",
    "        for row in gtReader:\n",
    "            images.append(plt.imread(prefix +\n",
    "                                     row[0]))  # the 1th column is the filename\n",
    "            labels.append(row[7])  # the 8th column is the label\n",
    "        gtFile.close()\n",
    "    return images, labels"
   ]
  },
  {
   "cell_type": "code",
   "execution_count": null,
   "metadata": {},
   "outputs": [],
   "source": [
    "images, labels = GTSRB_Final_Training_Images(\"GTSRB_Final_Training_Images\")"
   ]
  }
 ],
 "metadata": {
  "interpreter": {
   "hash": "8828e022aecce7840be46546e4f38081c31928999fdfa72cc431b77e933d28f1"
  },
  "kernelspec": {
   "display_name": "Python 3.9.7 64-bit ('torch': conda)",
   "name": "python3"
  },
  "language_info": {
   "codemirror_mode": {
    "name": "ipython",
    "version": 3
   },
   "file_extension": ".py",
   "mimetype": "text/x-python",
   "name": "python",
   "nbconvert_exporter": "python",
   "pygments_lexer": "ipython3",
   "version": "3.9.7"
  },
  "orig_nbformat": 4
 },
 "nbformat": 4,
 "nbformat_minor": 2
}

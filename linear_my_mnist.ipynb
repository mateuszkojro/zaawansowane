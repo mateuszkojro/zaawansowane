{
 "cells": [
  {
   "cell_type": "code",
   "execution_count": 1,
   "source": [
    "import torch\n",
    "import torchvision\n",
    "from torchsummary import summary"
   ],
   "outputs": [],
   "metadata": {}
  },
  {
   "cell_type": "code",
   "execution_count": 2,
   "source": [
    "n_epochs = 1\n",
    "batch_size_train = 64\n",
    "batch_size_test = 1000\n",
    "learning_rate = 0.01\n",
    "momentum = 0.5\n",
    "log_interval = 10\n",
    "\n",
    "random_seed = 1\n",
    "# torch.backends.cudnn.enabled = False\n",
    "torch.manual_seed(random_seed)"
   ],
   "outputs": [
    {
     "output_type": "execute_result",
     "data": {
      "text/plain": [
       "<torch._C.Generator at 0x7fe2a80a82b0>"
      ]
     },
     "metadata": {},
     "execution_count": 2
    }
   ],
   "metadata": {}
  },
  {
   "cell_type": "code",
   "execution_count": 3,
   "source": [
    "train_loader = torch.utils.data.DataLoader(\n",
    "  torchvision.datasets.MNIST('./files/', train=True, download=True,\n",
    "                             transform=torchvision.transforms.Compose([\n",
    "                               torchvision.transforms.ToTensor(),\n",
    "                               torchvision.transforms.Normalize(\n",
    "                                 (0.1307,), (0.3081,))\n",
    "                             ])),\n",
    "  batch_size=batch_size_train, shuffle=True)\n",
    "\n",
    "test_loader = torch.utils.data.DataLoader(\n",
    "  torchvision.datasets.MNIST('./files/', train=False, download=True,\n",
    "                             transform=torchvision.transforms.Compose([\n",
    "                               torchvision.transforms.ToTensor(),\n",
    "                               torchvision.transforms.Normalize(\n",
    "                                 (0.1307,), (0.3081,))\n",
    "                             ])),\n",
    "  batch_size=batch_size_test, shuffle=True)"
   ],
   "outputs": [
    {
     "output_type": "stream",
     "name": "stderr",
     "text": [
      "/home/mateusz/anaconda3/envs/torch/lib/python3.9/site-packages/torchvision/datasets/mnist.py:498: UserWarning: The given NumPy array is not writeable, and PyTorch does not support non-writeable tensors. This means you can write to the underlying (supposedly non-writeable) NumPy array using the tensor. You may want to copy the array to protect its data or make it writeable before converting it to a tensor. This type of warning will be suppressed for the rest of this program. (Triggered internally at  /opt/conda/conda-bld/pytorch_1631630841592/work/torch/csrc/utils/tensor_numpy.cpp:180.)\n",
      "  return torch.from_numpy(parsed.astype(m[2], copy=False)).view(*s)\n"
     ]
    }
   ],
   "metadata": {}
  },
  {
   "cell_type": "code",
   "execution_count": 4,
   "source": [
    "examples = enumerate(test_loader)\n",
    "batch_idx, (example_data, example_targets) = next(examples)"
   ],
   "outputs": [],
   "metadata": {}
  },
  {
   "cell_type": "code",
   "execution_count": 5,
   "source": [
    "example_data.shape"
   ],
   "outputs": [
    {
     "output_type": "execute_result",
     "data": {
      "text/plain": [
       "torch.Size([1000, 1, 28, 28])"
      ]
     },
     "metadata": {},
     "execution_count": 5
    }
   ],
   "metadata": {}
  },
  {
   "cell_type": "code",
   "execution_count": 6,
   "source": [
    "!pip install matplotlib\n",
    "import matplotlib.pyplot as plt\n",
    "\n",
    "fig = plt.figure()\n",
    "for i in range(6):\n",
    "  plt.subplot(2,3,i+1)\n",
    "  plt.tight_layout()\n",
    "  plt.imshow(example_data[i][0], cmap='gray', interpolation='none')\n",
    "  plt.title(\"Ground Truth: {}\".format(example_targets[i]))\n",
    "  plt.xticks([])\n",
    "  plt.yticks([])\n",
    "fig"
   ],
   "outputs": [
    {
     "output_type": "stream",
     "name": "stdout",
     "text": [
      "Requirement already satisfied: matplotlib in /home/mateusz/anaconda3/envs/torch/lib/python3.9/site-packages (3.4.3)\n",
      "Requirement already satisfied: cycler>=0.10 in /home/mateusz/.local/lib/python3.9/site-packages (from matplotlib) (0.10.0)\n",
      "Requirement already satisfied: pyparsing>=2.2.1 in /home/mateusz/anaconda3/envs/torch/lib/python3.9/site-packages (from matplotlib) (2.4.7)\n",
      "Requirement already satisfied: pillow>=6.2.0 in /home/mateusz/anaconda3/envs/torch/lib/python3.9/site-packages (from matplotlib) (8.3.1)\n",
      "Requirement already satisfied: numpy>=1.16 in /home/mateusz/anaconda3/envs/torch/lib/python3.9/site-packages (from matplotlib) (1.20.3)\n",
      "Requirement already satisfied: kiwisolver>=1.0.1 in /home/mateusz/.local/lib/python3.9/site-packages (from matplotlib) (1.3.2)\n",
      "Requirement already satisfied: python-dateutil>=2.7 in /home/mateusz/anaconda3/envs/torch/lib/python3.9/site-packages (from matplotlib) (2.8.2)\n",
      "Requirement already satisfied: six in /home/mateusz/anaconda3/envs/torch/lib/python3.9/site-packages (from cycler>=0.10->matplotlib) (1.16.0)\n"
     ]
    },
    {
     "output_type": "execute_result",
     "data": {
      "image/png": "[encoded data removed]",
      "text/plain": [
       "<Figure size 432x288 with 6 Axes>"
      ]
     },
     "metadata": {},
     "execution_count": 6
    },
    {
     "output_type": "display_data",
     "data": {
      "image/png": "[encoded data removed]",
      "text/plain": [
       "<Figure size 432x288 with 6 Axes>"
      ]
     },
     "metadata": {}
    }
   ],
   "metadata": {}
  },
  {
   "cell_type": "code",
   "execution_count": 7,
   "source": [
    "import torch.nn as nn\n",
    "import torch.nn.functional as F\n",
    "import torch.optim as optim"
   ],
   "outputs": [],
   "metadata": {}
  },
  {
   "cell_type": "markdown",
   "source": [],
   "metadata": {}
  },
  {
   "cell_type": "code",
   "execution_count": 8,
   "source": [
    "class Net(nn.Module):\n",
    "    def __init__(self):\n",
    "        super(Net, self).__init__()\n",
    "        self.flatten = nn.Flatten()\n",
    "        self.fc1 = nn.Linear(28 * 28, 50)\n",
    "        self.fc2 = nn.Linear(50, 10)\n",
    "\n",
    "    def forward(self, x):\n",
    "        # print(x.shape)\n",
    "        x = self.flatten(x)\n",
    "        # print(x.shape)\n",
    "        x = F.gelu(self.fc1(x))\n",
    "        # print(x.shape)\n",
    "        x = self.fc2(x)\n",
    "        # print(x.shape)\n",
    "        return F.log_softmax(x)"
   ],
   "outputs": [],
   "metadata": {}
  },
  {
   "cell_type": "code",
   "execution_count": 16,
   "source": [
    "network = Net().to('cuda')\n",
    "print(summary(network, input_size=(1, 28, 28)))\n",
    "optimizer = optim.SGD(network.parameters(), lr=learning_rate,\n",
    "                      momentum=momentum)"
   ],
   "outputs": [
    {
     "output_type": "stream",
     "name": "stdout",
     "text": [
      "----------------------------------------------------------------\n",
      "        Layer (type)               Output Shape         Param #\n",
      "================================================================\n",
      "           Flatten-1                  [-1, 784]               0\n",
      "            Linear-2                   [-1, 50]          39,250\n",
      "            Linear-3                   [-1, 10]             510\n",
      "================================================================\n",
      "Total params: 39,760\n",
      "Trainable params: 39,760\n",
      "Non-trainable params: 0\n",
      "----------------------------------------------------------------\n",
      "Input size (MB): 0.00\n",
      "Forward/backward pass size (MB): 0.01\n",
      "Params size (MB): 0.15\n",
      "Estimated Total Size (MB): 0.16\n",
      "----------------------------------------------------------------\n",
      "None\n"
     ]
    },
    {
     "output_type": "stream",
     "name": "stderr",
     "text": [
      "/tmp/ipykernel_42280/2621485234.py:16: UserWarning: Implicit dimension choice for log_softmax has been deprecated. Change the call to include dim=X as an argument.\n",
      "  return F.log_softmax(x)\n"
     ]
    }
   ],
   "metadata": {}
  },
  {
   "cell_type": "code",
   "execution_count": 10,
   "source": [
    "train_losses = []\n",
    "train_counter = []\n",
    "test_losses = []\n",
    "test_counter = [i*len(train_loader.dataset) for i in range(n_epochs + 1)]"
   ],
   "outputs": [],
   "metadata": {}
  },
  {
   "cell_type": "code",
   "execution_count": 11,
   "source": [
    "def train(epoch):\n",
    "  network.train()\n",
    "  for batch_idx, (data, target) in enumerate(train_loader):\n",
    "    data = data.to('cuda')\n",
    "    target = target.to('cuda')\n",
    "    optimizer.zero_grad()\n",
    "    output = network(data)\n",
    "    loss = F.nll_loss(output, target)\n",
    "    loss.backward()\n",
    "    optimizer.step()\n",
    "    if batch_idx % log_interval == 0:\n",
    "      print('Train Epoch: {} [{}/{} ({:.0f}%)]\\tLoss: {:.6f}'.format(\n",
    "        epoch, batch_idx * len(data), len(train_loader.dataset),\n",
    "        100. * batch_idx / len(train_loader), loss.item()))\n",
    "      train_losses.append(loss.item())\n",
    "      train_counter.append(\n",
    "        (batch_idx*64) + ((epoch-1)*len(train_loader.dataset)))\n",
    "      torch.save(network.state_dict(), './results/model.pth')\n",
    "      torch.save(optimizer.state_dict(), './results/optimizer.pth')"
   ],
   "outputs": [],
   "metadata": {}
  },
  {
   "cell_type": "code",
   "execution_count": 12,
   "source": [
    "def test():\n",
    "  network.eval()\n",
    "  test_loss = 0\n",
    "  correct = 0\n",
    "  with torch.no_grad():\n",
    "    for data, target in test_loader:\n",
    "      data = data.to('cuda')\n",
    "      target = target.to('cuda')\n",
    "      output = network(data)\n",
    "      test_loss += F.nll_loss(output, target, size_average=False).item()\n",
    "      pred = output.data.max(1, keepdim=True)[1]\n",
    "      correct += pred.eq(target.data.view_as(pred)).sum()\n",
    "  test_loss /= len(test_loader.dataset)\n",
    "  test_losses.append(test_loss)\n",
    "  print('\\nTest set: Avg. loss: {:.4f}, Accuracy: {}/{} ({:.0f}%)\\n'.format(\n",
    "    test_loss, correct, len(test_loader.dataset),\n",
    "    100. * correct / len(test_loader.dataset)))"
   ],
   "outputs": [],
   "metadata": {}
  },
  {
   "cell_type": "code",
   "execution_count": 13,
   "source": [
    "test()\n",
    "for epoch in range(1, n_epochs + 1):\n",
    "  train(epoch)\n",
    "  test()"
   ],
   "outputs": [
    {
     "output_type": "stream",
     "name": "stderr",
     "text": [
      "/tmp/ipykernel_42280/2621485234.py:16: UserWarning: Implicit dimension choice for log_softmax has been deprecated. Change the call to include dim=X as an argument.\n",
      "  return F.log_softmax(x)\n",
      "/home/mateusz/anaconda3/envs/torch/lib/python3.9/site-packages/torch/nn/_reduction.py:42: UserWarning: size_average and reduce args will be deprecated, please use reduction='sum' instead.\n",
      "  warnings.warn(warning.format(ret))\n"
     ]
    },
    {
     "output_type": "stream",
     "name": "stdout",
     "text": [
      "\n",
      "Test set: Avg. loss: 2.3245, Accuracy: 934/10000 (9%)\n",
      "\n",
      "Train Epoch: 1 [0/60000 (0%)]\tLoss: 2.305725\n",
      "Train Epoch: 1 [640/60000 (1%)]\tLoss: 2.090271\n",
      "Train Epoch: 1 [1280/60000 (2%)]\tLoss: 1.874828\n",
      "Train Epoch: 1 [1920/60000 (3%)]\tLoss: 1.594398\n",
      "Train Epoch: 1 [2560/60000 (4%)]\tLoss: 1.175545\n",
      "Train Epoch: 1 [3200/60000 (5%)]\tLoss: 1.078735\n",
      "Train Epoch: 1 [3840/60000 (6%)]\tLoss: 0.879182\n",
      "Train Epoch: 1 [4480/60000 (7%)]\tLoss: 0.897481\n",
      "Train Epoch: 1 [5120/60000 (9%)]\tLoss: 0.610424\n",
      "Train Epoch: 1 [5760/60000 (10%)]\tLoss: 0.565582\n",
      "Train Epoch: 1 [6400/60000 (11%)]\tLoss: 0.592916\n",
      "Train Epoch: 1 [7040/60000 (12%)]\tLoss: 0.688425\n",
      "Train Epoch: 1 [7680/60000 (13%)]\tLoss: 0.531743\n",
      "Train Epoch: 1 [8320/60000 (14%)]\tLoss: 0.502800\n",
      "Train Epoch: 1 [8960/60000 (15%)]\tLoss: 0.474106\n",
      "Train Epoch: 1 [9600/60000 (16%)]\tLoss: 0.633955\n",
      "Train Epoch: 1 [10240/60000 (17%)]\tLoss: 0.516781\n",
      "Train Epoch: 1 [10880/60000 (18%)]\tLoss: 0.612517\n",
      "Train Epoch: 1 [11520/60000 (19%)]\tLoss: 0.439251\n",
      "Train Epoch: 1 [12160/60000 (20%)]\tLoss: 0.421074\n",
      "Train Epoch: 1 [12800/60000 (21%)]\tLoss: 0.339870\n",
      "Train Epoch: 1 [13440/60000 (22%)]\tLoss: 0.339119\n",
      "Train Epoch: 1 [14080/60000 (23%)]\tLoss: 0.421651\n",
      "Train Epoch: 1 [14720/60000 (25%)]\tLoss: 0.516364\n",
      "Train Epoch: 1 [15360/60000 (26%)]\tLoss: 0.483964\n",
      "Train Epoch: 1 [16000/60000 (27%)]\tLoss: 0.546718\n",
      "Train Epoch: 1 [16640/60000 (28%)]\tLoss: 0.493678\n",
      "Train Epoch: 1 [17280/60000 (29%)]\tLoss: 0.333932\n",
      "Train Epoch: 1 [17920/60000 (30%)]\tLoss: 0.414609\n",
      "Train Epoch: 1 [18560/60000 (31%)]\tLoss: 0.308987\n",
      "Train Epoch: 1 [19200/60000 (32%)]\tLoss: 0.400478\n",
      "Train Epoch: 1 [19840/60000 (33%)]\tLoss: 0.404445\n",
      "Train Epoch: 1 [20480/60000 (34%)]\tLoss: 0.296754\n",
      "Train Epoch: 1 [21120/60000 (35%)]\tLoss: 0.342738\n",
      "Train Epoch: 1 [21760/60000 (36%)]\tLoss: 0.394345\n",
      "Train Epoch: 1 [22400/60000 (37%)]\tLoss: 0.410281\n",
      "Train Epoch: 1 [23040/60000 (38%)]\tLoss: 0.282274\n",
      "Train Epoch: 1 [23680/60000 (39%)]\tLoss: 0.533826\n",
      "Train Epoch: 1 [24320/60000 (41%)]\tLoss: 0.356913\n",
      "Train Epoch: 1 [24960/60000 (42%)]\tLoss: 0.336921\n",
      "Train Epoch: 1 [25600/60000 (43%)]\tLoss: 0.290076\n",
      "Train Epoch: 1 [26240/60000 (44%)]\tLoss: 0.260829\n",
      "Train Epoch: 1 [26880/60000 (45%)]\tLoss: 0.311062\n",
      "Train Epoch: 1 [27520/60000 (46%)]\tLoss: 0.375612\n",
      "Train Epoch: 1 [28160/60000 (47%)]\tLoss: 0.449400\n",
      "Train Epoch: 1 [28800/60000 (48%)]\tLoss: 0.270820\n",
      "Train Epoch: 1 [29440/60000 (49%)]\tLoss: 0.368801\n",
      "Train Epoch: 1 [30080/60000 (50%)]\tLoss: 0.426282\n",
      "Train Epoch: 1 [30720/60000 (51%)]\tLoss: 0.299376\n",
      "Train Epoch: 1 [31360/60000 (52%)]\tLoss: 0.192143\n",
      "Train Epoch: 1 [32000/60000 (53%)]\tLoss: 0.476511\n",
      "Train Epoch: 1 [32640/60000 (54%)]\tLoss: 0.240187\n",
      "Train Epoch: 1 [33280/60000 (55%)]\tLoss: 0.296147\n",
      "Train Epoch: 1 [33920/60000 (57%)]\tLoss: 0.257448\n",
      "Train Epoch: 1 [34560/60000 (58%)]\tLoss: 0.515203\n",
      "Train Epoch: 1 [35200/60000 (59%)]\tLoss: 0.260601\n",
      "Train Epoch: 1 [35840/60000 (60%)]\tLoss: 0.398336\n",
      "Train Epoch: 1 [36480/60000 (61%)]\tLoss: 0.286197\n",
      "Train Epoch: 1 [37120/60000 (62%)]\tLoss: 0.443282\n",
      "Train Epoch: 1 [37760/60000 (63%)]\tLoss: 0.273427\n",
      "Train Epoch: 1 [38400/60000 (64%)]\tLoss: 0.422607\n",
      "Train Epoch: 1 [39040/60000 (65%)]\tLoss: 0.249458\n",
      "Train Epoch: 1 [39680/60000 (66%)]\tLoss: 0.192213\n",
      "Train Epoch: 1 [40320/60000 (67%)]\tLoss: 0.215993\n",
      "Train Epoch: 1 [40960/60000 (68%)]\tLoss: 0.308476\n",
      "Train Epoch: 1 [41600/60000 (69%)]\tLoss: 0.380064\n",
      "Train Epoch: 1 [42240/60000 (70%)]\tLoss: 0.106667\n",
      "Train Epoch: 1 [42880/60000 (71%)]\tLoss: 0.284673\n",
      "Train Epoch: 1 [43520/60000 (72%)]\tLoss: 0.317366\n",
      "Train Epoch: 1 [44160/60000 (74%)]\tLoss: 0.294861\n",
      "Train Epoch: 1 [44800/60000 (75%)]\tLoss: 0.374132\n",
      "Train Epoch: 1 [45440/60000 (76%)]\tLoss: 0.319022\n",
      "Train Epoch: 1 [46080/60000 (77%)]\tLoss: 0.375382\n",
      "Train Epoch: 1 [46720/60000 (78%)]\tLoss: 0.396945\n",
      "Train Epoch: 1 [47360/60000 (79%)]\tLoss: 0.301883\n",
      "Train Epoch: 1 [48000/60000 (80%)]\tLoss: 0.213901\n",
      "Train Epoch: 1 [48640/60000 (81%)]\tLoss: 0.369032\n",
      "Train Epoch: 1 [49280/60000 (82%)]\tLoss: 0.231753\n",
      "Train Epoch: 1 [49920/60000 (83%)]\tLoss: 0.200145\n",
      "Train Epoch: 1 [50560/60000 (84%)]\tLoss: 0.281751\n",
      "Train Epoch: 1 [51200/60000 (85%)]\tLoss: 0.180830\n",
      "Train Epoch: 1 [51840/60000 (86%)]\tLoss: 0.305566\n",
      "Train Epoch: 1 [52480/60000 (87%)]\tLoss: 0.156861\n",
      "Train Epoch: 1 [53120/60000 (88%)]\tLoss: 0.386251\n",
      "Train Epoch: 1 [53760/60000 (90%)]\tLoss: 0.285658\n",
      "Train Epoch: 1 [54400/60000 (91%)]\tLoss: 0.322256\n",
      "Train Epoch: 1 [55040/60000 (92%)]\tLoss: 0.260801\n",
      "Train Epoch: 1 [55680/60000 (93%)]\tLoss: 0.231209\n",
      "Train Epoch: 1 [56320/60000 (94%)]\tLoss: 0.441650\n",
      "Train Epoch: 1 [56960/60000 (95%)]\tLoss: 0.340466\n",
      "Train Epoch: 1 [57600/60000 (96%)]\tLoss: 0.436618\n",
      "Train Epoch: 1 [58240/60000 (97%)]\tLoss: 0.174501\n",
      "Train Epoch: 1 [58880/60000 (98%)]\tLoss: 0.322007\n",
      "Train Epoch: 1 [59520/60000 (99%)]\tLoss: 0.394979\n",
      "\n",
      "Test set: Avg. loss: 0.2657, Accuracy: 9239/10000 (92%)\n",
      "\n"
     ]
    }
   ],
   "metadata": {}
  },
  {
   "cell_type": "code",
   "execution_count": 14,
   "source": [
    "fig = plt.figure()\n",
    "plt.plot(train_counter, train_losses, color='blue')\n",
    "# plt.scatter(test_counter, test_losses, color='red')\n",
    "plt.legend(['Train Loss', 'Test Loss'], loc='upper right')\n",
    "plt.xlabel('number of training examples seen')\n",
    "plt.ylabel('negative log likelihood loss')\n",
    "fig"
   ],
   "outputs": [
    {
     "output_type": "execute_result",
     "data": {
      "image/png": "[encoded data removed]",
      "text/plain": [
       "<Figure size 432x288 with 1 Axes>"
      ]
     },
     "metadata": {},
     "execution_count": 14
    },
    {
     "output_type": "display_data",
     "data": {
      "image/png": "[encoded data removed]",
      "text/plain": [
       "<Figure size 432x288 with 1 Axes>"
      ]
     },
     "metadata": {
      "needs_background": "light"
     }
    }
   ],
   "metadata": {}
  },
  {
   "cell_type": "code",
   "execution_count": 1,
   "source": [
    "    torch.cuda.empty_cache()"
   ],
   "outputs": [
    {
     "output_type": "error",
     "ename": "NameError",
     "evalue": "name 'torch' is not defined",
     "traceback": [
      "\u001b[0;31m---------------------------------------------------------------------------\u001b[0m",
      "\u001b[0;31mNameError\u001b[0m                                 Traceback (most recent call last)",
      "\u001b[0;32m/tmp/ipykernel_44015/1562733210.py\u001b[0m in \u001b[0;36m<module>\u001b[0;34m\u001b[0m\n\u001b[0;32m----> 1\u001b[0;31m \u001b[0mtorch\u001b[0m\u001b[0;34m.\u001b[0m\u001b[0mcuda\u001b[0m\u001b[0;34m.\u001b[0m\u001b[0mempty_cache\u001b[0m\u001b[0;34m(\u001b[0m\u001b[0;34m)\u001b[0m\u001b[0;34m\u001b[0m\u001b[0;34m\u001b[0m\u001b[0m\n\u001b[0m",
      "\u001b[0;31mNameError\u001b[0m: name 'torch' is not defined"
     ]
    }
   ],
   "metadata": {}
  },
  {
   "cell_type": "code",
   "execution_count": null,
   "source": [],
   "outputs": [],
   "metadata": {}
  }
 ],
 "metadata": {
  "orig_nbformat": 4,
  "language_info": {
   "name": "python",
   "version": "3.9.7",
   "mimetype": "text/x-python",
   "codemirror_mode": {
    "name": "ipython",
    "version": 3
   },
   "pygments_lexer": "ipython3",
   "nbconvert_exporter": "python",
   "file_extension": ".py"
  },
  "kernelspec": {
   "name": "python3",
   "display_name": "Python 3.9.7 64-bit ('torch': conda)"
  },
  "interpreter": {
   "hash": "c5bd69e78ac4ca27e419514c117576c0f971fefcab49392b81ad3736e60d7ae5"
  }
 },
 "nbformat": 4,
 "nbformat_minor": 2
}